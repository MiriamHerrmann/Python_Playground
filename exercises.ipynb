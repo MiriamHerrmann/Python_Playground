{
 "cells": [
  {
   "cell_type": "code",
   "execution_count": 13,
   "metadata": {},
   "outputs": [
    {
     "name": "stdout",
     "output_type": "stream",
     "text": [
      "Miriam\n"
     ]
    }
   ],
   "source": [
    "my_name = \"Miriam\"\n",
    "print(my_name)"
   ]
  },
  {
   "cell_type": "code",
   "execution_count": 14,
   "metadata": {},
   "outputs": [
    {
     "name": "stdout",
     "output_type": "stream",
     "text": [
      "29\n"
     ]
    }
   ],
   "source": [
    "my_age = 29\n",
    "print(my_age)"
   ]
  },
  {
   "cell_type": "code",
   "execution_count": 15,
   "metadata": {},
   "outputs": [
    {
     "name": "stdout",
     "output_type": "stream",
     "text": [
      "32\n"
     ]
    }
   ],
   "source": [
    "julia_age = 32\n",
    "print(julia_age)"
   ]
  },
  {
   "cell_type": "code",
   "execution_count": 16,
   "metadata": {},
   "outputs": [
    {
     "name": "stdout",
     "output_type": "stream",
     "text": [
      "-3\n"
     ]
    }
   ],
   "source": [
    "age_diff = (my_age) - (julia_age)\n",
    "print(age_diff)"
   ]
  },
  {
   "cell_type": "code",
   "execution_count": 17,
   "metadata": {},
   "outputs": [
    {
     "name": "stdout",
     "output_type": "stream",
     "text": [
      "You are older than 21\n"
     ]
    }
   ],
   "source": [
    "if (my_age >= 21) :\n",
    "    print (\"You are older than 21\")\n",
    "else:\n",
    "    print (\"You are not older than 21\")"
   ]
  },
  {
   "cell_type": "code",
   "execution_count": 18,
   "metadata": {},
   "outputs": [
    {
     "name": "stdout",
     "output_type": "stream",
     "text": [
      "Julia is older than you\n"
     ]
    }
   ],
   "source": [
    "if (my_age > julia_age):\n",
    "    print (\"Julia is younger than you\")\n",
    "elif (my_age < julia_age) :\n",
    "    print (\"Julia is older than you\")\n",
    "else: \n",
    "    print (\"You have the same age as Julia\")"
   ]
  },
  {
   "cell_type": "code",
   "execution_count": 19,
   "metadata": {},
   "outputs": [
    {
     "name": "stdout",
     "output_type": "stream",
     "text": [
      "['Arjun', 'Killian', 'Muayad', 'Kojo', 'Miriam', 'Linh', 'Leonardo', 'Max']\n"
     ]
    }
   ],
   "source": [
    "my_list = [\"Arjun\", \"Killian\", \"Muayad\", \"Kojo\", \"Miriam\", \"Linh\", \"Leonardo\", \"Max\"]\n",
    "print (my_list)"
   ]
  },
  {
   "cell_type": "code",
   "execution_count": 20,
   "metadata": {},
   "outputs": [
    {
     "name": "stdout",
     "output_type": "stream",
     "text": [
      "['Arjun', 'Killian', 'Kojo', 'Leonardo', 'Linh', 'Max', 'Miriam', 'Muayad']\n"
     ]
    }
   ],
   "source": [
    "my_list.sort(key=str.lower)\n",
    "print (my_list)"
   ]
  },
  {
   "cell_type": "code",
   "execution_count": 27,
   "metadata": {},
   "outputs": [
    {
     "name": "stdout",
     "output_type": "stream",
     "text": [
      "Arjun\n",
      "Muayad\n"
     ]
    }
   ],
   "source": [
    "print(my_list[0])\n",
    "print(my_list[7])  "
   ]
  },
  {
   "cell_type": "code",
   "execution_count": 28,
   "metadata": {},
   "outputs": [
    {
     "name": "stdout",
     "output_type": "stream",
     "text": [
      "Arjun\n",
      "Killian\n",
      "Kojo\n",
      "Leonardo\n",
      "Linh\n",
      "Max\n",
      "Miriam\n",
      "Muayad\n"
     ]
    }
   ],
   "source": [
    "for count in range (0, len(my_list)) :\n",
    "    print(my_list [count])"
   ]
  },
  {
   "cell_type": "code",
   "execution_count": 29,
   "metadata": {},
   "outputs": [
    {
     "name": "stdout",
     "output_type": "stream",
     "text": [
      "(29, 41, 28, 26, 30)\n"
     ]
    }
   ],
   "source": [
    "age_list = 29, 41, 28, 26, 30\n",
    "print(age_list)"
   ]
  },
  {
   "cell_type": "code",
   "execution_count": 30,
   "metadata": {},
   "outputs": [
    {
     "name": "stdout",
     "output_type": "stream",
     "text": [
      "29\n",
      "41\n",
      "28\n",
      "26\n",
      "30\n"
     ]
    }
   ],
   "source": [
    "for age in range(0, len(age_list)) :\n",
    "    print(age_list[age])"
   ]
  },
  {
   "cell_type": "code",
   "execution_count": 48,
   "metadata": {},
   "outputs": [
    {
     "name": "stdout",
     "output_type": "stream",
     "text": [
      "29\n",
      "41\n",
      "28\n",
      "26\n",
      "30\n"
     ]
    }
   ],
   "source": [
    "for age in age_list:\n",
    "    print (age)"
   ]
  },
  {
   "cell_type": "code",
   "execution_count": 46,
   "metadata": {},
   "outputs": [
    {
     "name": "stdout",
     "output_type": "stream",
     "text": [
      "28\n",
      "26\n",
      "30\n"
     ]
    }
   ],
   "source": [
    "for age in age_list: \n",
    "    if (age % 2 == 0) : \n",
    "        print(age)"
   ]
  },
  {
   "cell_type": "code",
   "execution_count": null,
   "metadata": {},
   "outputs": [],
   "source": []
  },
  {
   "cell_type": "code",
   "execution_count": null,
   "metadata": {},
   "outputs": [],
   "source": []
  },
  {
   "cell_type": "code",
   "execution_count": null,
   "metadata": {},
   "outputs": [],
   "source": []
  },
  {
   "cell_type": "code",
   "execution_count": null,
   "metadata": {},
   "outputs": [],
   "source": []
  },
  {
   "cell_type": "code",
   "execution_count": null,
   "metadata": {},
   "outputs": [],
   "source": []
  }
 ],
 "metadata": {
  "kernelspec": {
   "display_name": "base",
   "language": "python",
   "name": "python3"
  },
  "language_info": {
   "codemirror_mode": {
    "name": "ipython",
    "version": 3
   },
   "file_extension": ".py",
   "mimetype": "text/x-python",
   "name": "python",
   "nbconvert_exporter": "python",
   "pygments_lexer": "ipython3",
   "version": "3.10.9"
  },
  "orig_nbformat": 4
 },
 "nbformat": 4,
 "nbformat_minor": 2
}
